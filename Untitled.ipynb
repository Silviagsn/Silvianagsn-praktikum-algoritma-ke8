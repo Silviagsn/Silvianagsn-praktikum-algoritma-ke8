{
 "cells": [
  {
   "cell_type": "code",
   "execution_count": 1,
   "id": "dfc40e6c-4e27-4a9a-ac15-0da6519d664f",
   "metadata": {},
   "outputs": [
    {
     "name": "stdin",
     "output_type": "stream",
     "text": [
      "Masukkan Jumlah:  3\n",
      "Masukkan angka ke-3 8\n",
      "Masukkan angka ke-2 7\n",
      "Masukkan angka ke-1 5\n"
     ]
    },
    {
     "name": "stdout",
     "output_type": "stream",
     "text": [
      "Hasil dari penjumlahan adalah: 20\n"
     ]
    }
   ],
   "source": [
    "def jumlah_rekursif(jumlah):\n",
    "    if jumlah == 0:\n",
    "        return 0\n",
    "    angka = int(input(f\"Masukkan angka ke-{jumlah}\"))\n",
    "    return angka + jumlah_rekursif(jumlah - 1)\n",
    "    \n",
    "jumlah = int(input(\"Masukkan Jumlah: \"))\n",
    "hasil = jumlah_rekursif(jumlah)\n",
    "print(f\"Hasil dari penjumlahan adalah: {hasil}\")"
   ]
  },
  {
   "cell_type": "code",
   "execution_count": 7,
   "id": "a1908731-d8df-4577-8076-8a628a9692ea",
   "metadata": {},
   "outputs": [
    {
     "name": "stdin",
     "output_type": "stream",
     "text": [
      "Masukkan bilangan:  2\n",
      "Masukkan pangkat:  -4\n"
     ]
    },
    {
     "name": "stdout",
     "output_type": "stream",
     "text": [
      "2 dipangkatkan -4 adalah: 0.0625\n"
     ]
    }
   ],
   "source": [
    "def pangkat(bilangan, p):\n",
    "    if p == 0:\n",
    "        return 1\n",
    "    \n",
    "    if p < 0:\n",
    "        return 1 / (bilangan * pangkat(bilangan, abs(p) - 1))\n",
    "    return bilangan * pangkat(bilangan, p - 1)\n",
    "\n",
    "bilangan = int(input(\"Masukkan bilangan: \"))\n",
    "pangkat_input = int(input(\"Masukkan pangkat: \"))\n",
    "\n",
    "hasil = pangkat(bilangan, pangkat_input)\n",
    "print(f\"{bilangan} dipangkatkan {pangkat_input} adalah: {hasil}\")"
   ]
  },
  {
   "cell_type": "code",
   "execution_count": null,
   "id": "6e941d43-5107-484b-8f09-1d8924ab8a18",
   "metadata": {},
   "outputs": [],
   "source": []
  }
 ],
 "metadata": {
  "kernelspec": {
   "display_name": "Python 3 (ipykernel)",
   "language": "python",
   "name": "python3"
  },
  "language_info": {
   "codemirror_mode": {
    "name": "ipython",
    "version": 3
   },
   "file_extension": ".py",
   "mimetype": "text/x-python",
   "name": "python",
   "nbconvert_exporter": "python",
   "pygments_lexer": "ipython3",
   "version": "3.12.4"
  }
 },
 "nbformat": 4,
 "nbformat_minor": 5
}
